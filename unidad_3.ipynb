{
  "cells": [
    {
      "cell_type": "markdown",
      "metadata": {
        "id": "view-in-github",
        "colab_type": "text"
      },
      "source": [
        "<a href=\"https://colab.research.google.com/github/carlasolrocca/api-movies/blob/master/unidad_3.ipynb\" target=\"_parent\"><img src=\"https://colab.research.google.com/assets/colab-badge.svg\" alt=\"Open In Colab\"/></a>"
      ]
    },
    {
      "cell_type": "markdown",
      "metadata": {
        "id": "of1WoTbqtEEj"
      },
      "source": [
        "# Álgebra lineal"
      ]
    },
    {
      "cell_type": "markdown",
      "metadata": {
        "id": "-n3WHpjutEEl"
      },
      "source": [
        "Aunque algunos pueden confundir el **álgebra lineal** con el **álgebra básica**, en realidad es mucho más abstracta, centrada en `vectores` y `matrices`.  \n",
        "\n",
        "Se ocupa de sistemas lineales representados a través de espacios vectoriales y matrices.  \n",
        "\n",
        "Si no estás familiarizado con estos conceptos, no hay problema; los vamos a explorar detalladamente.  \n",
        "\n",
        "El álgebra lineal es fundamental en varias áreas aplicadas como estadísticas, investigación operativa, ciencia de datos y aprendizaje automático.  \n",
        "\n",
        "Cuando trabajas con datos en estas áreas, estás utilizando álgebra lineal, muchas veces sin darte cuenta.  \n",
        "\n",
        "Es posible evitar el aprendizaje profundo del álgebra lineal por un tiempo, gracias a las bibliotecas de aprendizaje automático y estadísticas que automatizan estos procesos. Sin embargo, para realmente comprender lo que sucede detrás de las escenas y trabajar de manera más efectiva con los datos, es inevitable entender los fundamentos del álgebra lineal.  \n",
        "\n",
        "Aunque es un tema extenso que no podemos abarcar completamente en una sola clase, podemos aprender lo suficiente para sentirnos más cómodos con él y movernos de manera efectiva en el ámbito de la ciencia de datos. Además, habrá oportunidades de aplicar estos conceptos en capítulos posteriores."
      ]
    },
    {
      "cell_type": "markdown",
      "metadata": {
        "id": "6TjvnBMctEEm"
      },
      "source": [
        "### ¿Qué es un vector?"
      ]
    },
    {
      "cell_type": "markdown",
      "metadata": {
        "id": "33kzmnqktEEn"
      },
      "source": [
        "Según los físicos, un vector es una flecha en el espacio con una dirección y longitud específicas, que suele representar datos, por ejemplo, velocidad y dirección.  \n",
        "\n",
        "Para un programador, un vector es una lista ordenadas de números que se pueden sumar entre sí, y la dimensión del vector es qué cantidad de elementos tiene esa lista.  \n",
        "\n",
        "Para un matemático, un vector es un conjunto de cosas que se pueden **sumar entre ellos y multiplicar por un número**.\n",
        "\n",
        "En criollo, es una flecha que tiene principio, fin, dirección, largo y sentido.  \n",
        "\n",
        "Es el pilar central del álgebra lineal, incluyendo matrices y transformaciones lineales.  \n",
        "\n",
        "En su forma más fundamental, no tiene un concepto de ubicación, así que siempre imagina que su cola comienza en el origen de un plano cartesiano (0,0).\n",
        "\n",
        "La figura que sigue muestra un vector que avanza tres pasos en dirección horizontal y dos pasos en la vertical.  \n",
        "\n",
        "![vector.png](attachment:image.png)"
      ]
    },
    {
      "cell_type": "markdown",
      "metadata": {
        "id": "fPT4Ok8itEEn"
      },
      "source": [
        "El propósito del vector es representar visualmente un pedazo de datos.  \n",
        "\n",
        "Si tenemos un registro de datos para los metros cuadrados de una casa de 1.672 metros cuadrados y su valoración de $260.000, podríamos expresar eso como un vector [1672, 260000], avanzando 1.672 pasos en dirección horizontal y 260.000 pasos en la dirección vertical.  \n",
        "\n",
        "Declaramos un vector matemáticamente así:\n",
        "\n",
        "$$\\overrightarrow{v}={x\\brack y}$$\n",
        "\n",
        "Poniendo valores:\n",
        "\n",
        "$$\\overrightarrow{v}={3\\brack 2}$$\n",
        "\n",
        "\n",
        "Podemos declarar un vector usando una colección simple de Python, como una lista común y corriente, o como vimos en la clase anterior: utilizando `numpy`."
      ]
    },
    {
      "cell_type": "markdown",
      "metadata": {
        "id": "VzZM6x2UtEEn"
      },
      "source": [
        "<div class=\"alert alert-block alert-info\">\n",
        "<b>Nota:</b> Cuando comenzamos a realizar cálculos matemáticos con vectores, especialmente al realizar tareas como el aprendizaje automático, probablemente deberíamos usar la biblioteca `NumPy`, ya que es más eficiente que las listas de Python nativas.\n",
        "</div>"
      ]
    },
    {
      "cell_type": "code",
      "execution_count": null,
      "metadata": {
        "id": "wBw9lQrvtEEn",
        "outputId": "ec515b09-a19a-43e6-a9d1-46fb257f95be"
      },
      "outputs": [
        {
          "name": "stdout",
          "output_type": "stream",
          "text": [
            "[3, 2]\n"
          ]
        }
      ],
      "source": [
        "v = [3, 2]\n",
        "print(v)"
      ]
    },
    {
      "cell_type": "code",
      "execution_count": null,
      "metadata": {
        "id": "gpMx-q5rtEEp",
        "outputId": "c87955f8-50f3-46ab-b734-7147d80577b8"
      },
      "outputs": [
        {
          "name": "stdout",
          "output_type": "stream",
          "text": [
            "[3 2]\n",
            "(2,)\n"
          ]
        }
      ],
      "source": [
        "import numpy as np\n",
        "v = np.array([3, 2])\n",
        "print(v)\n",
        "print(v.shape)"
      ]
    },
    {
      "cell_type": "markdown",
      "metadata": {
        "id": "f8A5nPkdtEEq"
      },
      "source": [
        "<div class=\"alert alert-block alert-danger\">\n",
        "<b>Importante:</b> Python es lento en términos computacionales, ya que no se compila a código de máquina de bajo nivel o bytecode como Java, C#, C, etc.  \n",
        "Se interpreta de manera dinámica en tiempo de ejecución.  \n",
        "Sin embargo, las bibliotecas numéricas y científicas de Python no son lentas.  \n",
        "</div>  \n",
        "\n",
        "\n",
        "Bibliotecas como NumPy están escritas en lenguajes de bajo nivel como C y C++, por eso son computacionalmente eficientes.  \n",
        "\n",
        "Python realmente actúa como un \"código pegamento\" integrando estas bibliotecas para tus tareas."
      ]
    },
    {
      "cell_type": "markdown",
      "metadata": {
        "id": "k5_7DvrNtEEq"
      },
      "source": [
        "## Dimensiones  \n",
        "\n",
        "El vector \"v\" que declaramos recién, es de 2 dimensiones, y es difícil imaginarse un vector de más de 3 dimensiones. Pero en realidad, nos alcanza con saber que podemos generalizar y podemos tener vectores de tantas dimensiones como queramos:\n",
        "$$\\overrightarrow{v}= \\left(\\begin{matrix} 3 \\\\ 2 \\\\ 18 \\\\ 2 \\\\ 9\n",
        "\\end{matrix}\\right)$$\n"
      ]
    },
    {
      "cell_type": "code",
      "execution_count": null,
      "metadata": {
        "id": "4tlY2BBntEEq",
        "outputId": "1b27946c-01dd-4b5d-fc2e-bb37b1fe3726"
      },
      "outputs": [
        {
          "name": "stdout",
          "output_type": "stream",
          "text": [
            "[ 3  2 18  2  9]\n",
            "(5,)\n"
          ]
        }
      ],
      "source": [
        "v = np.array([3, 2, 18, 2, 9])\n",
        "print(v)\n",
        "print(v.shape)"
      ]
    },
    {
      "cell_type": "markdown",
      "metadata": {
        "id": "oI2RXT2gtEEr"
      },
      "source": [
        "\n",
        "## Sumar Vectores\n",
        "Efectivamente combinamos los movimientos de dos vectores en un solo vector.\n",
        "\n",
        "Digamos que tenemos dos vectores: $$\\overrightarrow{v} ; \\overrightarrow{w}$$\n",
        "\n",
        "¿Cómo los sumamos?\n",
        "\n",
        "![vectores_v_y_W.png](attachment:image.png)"
      ]
    },
    {
      "cell_type": "markdown",
      "metadata": {
        "id": "ReslcOUftEEr"
      },
      "source": [
        "Numéricamente es bastante sencillo: sumamos los valores del eje *x* y eso nos va a dar la resultante en *x*, y hacemos lo mismo para el eje *y*.\n",
        "\n",
        "$$\\overrightarrow{v} + \\overrightarrow{w} = \\left(\\begin{matrix} 3 \\\\ 2 \\end{matrix}\\right) + \\left(\\begin{matrix} 2 \\\\ -1 \\end{matrix}\\right)$$\n",
        "\n",
        "$$\\overrightarrow{v} + \\overrightarrow{w} = \\left(\\begin{matrix} 3 + 2 \\\\ 2 + (-1) \\end{matrix}\\right) $$\n",
        "\n",
        "$$\\overrightarrow{v} + \\overrightarrow{w} = \\left(\\begin{matrix} 5 \\\\ 1 \\end{matrix}\\right) $$\n"
      ]
    },
    {
      "cell_type": "code",
      "execution_count": null,
      "metadata": {
        "id": "PkAMkovXtEEr",
        "outputId": "9fea96da-5c83-4301-cf0b-5ea98e6611f8"
      },
      "outputs": [
        {
          "name": "stdout",
          "output_type": "stream",
          "text": [
            "[5 1]\n"
          ]
        }
      ],
      "source": [
        "from numpy import array\n",
        "\n",
        "v = array([3,2])\n",
        "w = array([2,-1])\n",
        "\n",
        "# sum the vectors\n",
        "v_plus_w = v + w\n",
        "\n",
        "# display summed vector\n",
        "print(v_plus_w)"
      ]
    },
    {
      "cell_type": "markdown",
      "metadata": {
        "id": "QYfYDVV8tEEs"
      },
      "source": [
        "Visualmente, esto es como correr la base del vector a sumar donde termina el vector anterior:  \n",
        "![image.png](attachment:image.png)"
      ]
    },
    {
      "cell_type": "markdown",
      "metadata": {
        "id": "Hb00AFistEEs"
      },
      "source": [
        "Y veamos que es lo mismo cuál de los dos sumo primero, es decir, la adición de vectores es conmutativa:  \n",
        "![image.png](attachment:image.png)"
      ]
    },
    {
      "cell_type": "markdown",
      "metadata": {
        "id": "QyP2HgbetEEs"
      },
      "source": [
        "## Escalando Vectores\n",
        "Escalar es aumentar o disminuir la longitud de un vector. Se puede hace crecer/reducir un vector multiplicándolo o escalándolo con un valor único, conocido como escalar.  \n",
        "\n",
        "![image.png](attachment:image.png)  \n",
        "\n",
        "Matemáticamente, esto es multiplicar cada una de las dimensiones por el escalar.  \n",
        "\n",
        "\n",
        "$$\\overrightarrow{v} = \\left(\\begin{matrix} 3 \\\\ 1 \\end{matrix}\\right) $$\n",
        "$$ 2 \\overrightarrow{v} = 2 \\left(\\begin{matrix} 3 \\\\ 1 \\end{matrix}\\right) = \\left(\\begin{matrix} 2 \\times 3 \\\\  2 \\times 1 \\end{matrix}\\right) = \\left(\\begin{matrix} 6 \\\\  2 \\end{matrix}\\right) $$"
      ]
    },
    {
      "cell_type": "code",
      "execution_count": null,
      "metadata": {
        "id": "m_0HKiREtEEs",
        "outputId": "03a05b67-8ca0-4cfb-920d-dd852ea2d09e"
      },
      "outputs": [
        {
          "name": "stdout",
          "output_type": "stream",
          "text": [
            "[6. 2.]\n"
          ]
        }
      ],
      "source": [
        "v = array([3,1])\n",
        "\n",
        "# scale the vector\n",
        "scaled_v = 2.0 * v\n",
        "\n",
        "# display scaled vector\n",
        "print(scaled_v)"
      ]
    },
    {
      "cell_type": "markdown",
      "metadata": {
        "id": "RBRnYfd8tEEt"
      },
      "source": [
        "#### Manipular datos es manipular vectores\n",
        "Cada operación con datos puede pensarse en términos de vectores, incluso promedios simples.\n",
        "\n",
        "Tomemos el escalado, por ejemplo.  \n",
        "\n",
        "Digamos que intentábamos obtener el valor promedio de una casa y el metraje cuadrado promedio para todo un vecindario.  \n",
        "\n",
        "Sumaríamos los vectores juntos para combinar su valor y metraje cuadrado respectivamente, dándonos un vector gigante que contiene tanto el valor total como el metraje cuadrado total.  \n",
        "\n",
        "Luego, escalamos hacia abajo el vector dividiéndolo por el número de casas *N*, que realmente es multiplicar por *1/N*. Ahora tenemos un vector que contiene el valor promedio de la casa y el metraje cuadrado promedio."
      ]
    },
    {
      "cell_type": "markdown",
      "metadata": {
        "id": "yAI8G67DtEEt"
      },
      "source": [
        "<div class=\"alert alert-block alert-info\">\n",
        "<b>Nota:</b> Escalar un vector no le cambia la dirección, solamente lo estira o lo contrae. Lo importante de notar es que si el escalar es negativo, no cambia la dirección pero sí el sentido.\n",
        "</div>"
      ]
    },
    {
      "cell_type": "markdown",
      "metadata": {
        "id": "Nbyv60DTtEEt"
      },
      "source": [
        "![image.png](attachment:image.png)"
      ]
    },
    {
      "cell_type": "markdown",
      "metadata": {
        "id": "ianuZC2HtEEt"
      },
      "source": [
        "#### Extensión y Dependencia Lineal\n",
        "Estas dos operaciones, sumar dos vectores y escalarlos, dan lugar a una idea simple pero poderosa:  \n",
        "- Con estas dos operaciones, podemos combinar dos vectores y escalarlos para crear cualquier vector resultante que queramos.\n",
        "\n",
        "En la imagen vemos 6 ejemplos de tomar dos vectores, escalarlos y sumarlos.  \n",
        "\n",
        "Estos vectores:\n",
        "$$\\overrightarrow{v} ; \\overrightarrow{w} $$\n",
        "\n",
        "Tienen cada uno su dirección y sentido fijos, pero pueden ser escalados y combinados para crear **cualquier** otro vector nuevo.  \n",
        "\n",
        "![image.png](attachment:image.png)"
      ]
    },
    {
      "cell_type": "markdown",
      "metadata": {
        "id": "nnuhId8PtEEu"
      },
      "source": [
        "\n",
        "De nuevo, estos vectores tienen direcciones fijas, excepto por el cambio con escalares negativos, pero podemos usar el escalado para crear libremente cualquier vector compuesto por estos dos originales.\n",
        "\n",
        "Todo este espacio de vectores posibles se llama extensión, y en la mayoría de los casos nuestra extensión puede crear vectores ilimitados a partir de esos dos vectores, simplemente escalándolos y sumándolos.  \n",
        "\n",
        "<div class=\"alert alert-block alert-warning\">\n",
        "<b>Pregunta:</b> ¿en qué caso estamos limitados en los vectores que podemos crear?\n",
        "</div>\n",
        "\n",
        "---\n",
        "\n",
        "Cuando tenemos dos vectores en dos direcciones diferentes, son linealmente independientes y tienen esta extensión ilimitada.\n",
        "\n",
        "¿Qué pasa cuando dos vectores existen en la misma dirección o existen en la misma línea?  \n",
        "\n",
        "La combinación de esos vectores también está limitada a la misma línea, limitando nuestra extensión a solo esa línea. No importa cómo lo escales, el vector suma resultante también está limitado a esa misma línea. Esto los hace **linealmente dependientes**.  \n",
        "\n",
        "![image.png](attachment:image.png)"
      ]
    },
    {
      "cell_type": "markdown",
      "metadata": {
        "id": "jy59qbZetEEu"
      },
      "source": [
        "¿Y cómo podría encontrarme con este mismo problema en más dimensiones?  \n",
        "\n",
        "![image.png](attachment:image.png)  \n",
        "\n",
        "Por ejemplo, si tengo 3 o más dimensiones, capaz que son linealmente dependientes entre sí y quedo limitado.  \n",
        "\n",
        "<div class=\"alert alert-block alert-info\">\n",
        "<b>Nota:</b> Más adelante vamos a revisar el concepto de determinante que nos ayuda con este problema.\n",
        "</div>"
      ]
    },
    {
      "cell_type": "markdown",
      "metadata": {
        "id": "R8UUenlWtEEu"
      },
      "source": [
        "¿Pero por qué nos importa si dos vectores son linealmente dependientes o independientes?  \n",
        "\n",
        "Muchos problemas se vuelven difíciles o irresolubles cuando son linealmente dependientes. Por ejemplo, cuando aprendamos sobre sistemas de ecuaciones más adelante en este capítulo, un conjunto de ecuaciones linealmente dependiente puede hacer que las variables desaparezcan y volver el problema irresoluble.  \n",
        "\n",
        "¡Pero si tenemos independencia lineal, esa flexibilidad para crear cualquier vector que necesites a partir de dos o más vectores se vuelve invaluable para encontrar una solución!"
      ]
    },
    {
      "cell_type": "markdown",
      "metadata": {
        "id": "S4I_ipzvtEEu"
      },
      "source": [
        "## Transformaciones lineales"
      ]
    },
    {
      "cell_type": "markdown",
      "metadata": {
        "id": "ZOeT_Y38tEEu"
      },
      "source": [
        "Este concepto de sumar dos vectores con dirección fija, pero escalarlos para tener distintos resultados de las sumas, es bastante importante.  \n",
        "\n",
        "Este vector resultante, exceptuando los casos de dependencia lineal, nos puede apuntar en cualquier dirección, y puede tener el largo que nosotros queramos.  \n",
        "\n",
        "Esto prepara la intuición para transformaciones lineales, donde usamos vectores para llegar a otros, de un estilo de \"funciones\"."
      ]
    },
    {
      "cell_type": "markdown",
      "metadata": {
        "id": "_F5kuiLRtEEu"
      },
      "source": [
        "### Vectores Base"
      ]
    },
    {
      "cell_type": "markdown",
      "metadata": {
        "id": "Bbk8SGI5tEEv"
      },
      "source": [
        "Los vectores conocidos como vectores base, se utilizan para describir transformaciones en otros vectores. Típicamente tienen una longitud de 1 y apuntan en direcciones positivas perpendiculares.\n",
        "\n",
        "Piensa en los vectores base como bloques de construcción para construir o transformar cualquier vector.\n",
        "\n",
        "\n",
        "![image.png](attachment:image.png)"
      ]
    },
    {
      "cell_type": "markdown",
      "metadata": {
        "id": "eqVE4V2jtEEv"
      },
      "source": [
        "Nuestro vector base se expresa en una matriz de 2x2, donde la primera columna es *i* y la segunda *j*\n",
        "\n",
        "$$\\overrightarrow{i} = \\dbinom{1}{0} $$\n",
        "$$\\overrightarrow{j} = \\dbinom{0}{1} $$\n",
        "\n",
        "$$ base = \\begin{pmatrix}\n",
        "   1 & 0 \\\\\n",
        "   0 & 1\n",
        "\\end{pmatrix} $$"
      ]
    },
    {
      "cell_type": "markdown",
      "metadata": {
        "id": "8jkn9jbetEEv"
      },
      "source": [
        "Una matriz es una colección de vectores (como *î* y *^j*) que puede tener múltiples filas y columnas, y es una forma conveniente de empaquetar datos. Podemos usar *i* y *j*  para crear cualquier vector que deseemos escalándolos y sumándolos.\n",
        "\n",
        "Comencemos con el vector\n",
        "$$\\overrightarrow{v} = \\dbinom{1}{1} $$\n",
        "\n",
        "¿Cómo logramos que el vector *v* apunte al [3, 2]?\n",
        "Veamos qué sucede si multiplicamos a *î* por un factor de 3 y a *j* por un factor de 2 y luego los sumamos\n",
        "$$ 3 \\overrightarrow{i} = 3 \\dbinom{1}{0} = \\dbinom{3}{0} $$\n",
        "$$ 2 \\overrightarrow{j} = 2 \\dbinom{0}{1} = \\dbinom{0}{2} $$\n",
        "$$ \\overrightarrow{v} = \\dbinom{3}{0} + \\dbinom{0}{2} = \\dbinom{3}{2} $$\n",
        "\n",
        "![image.png](attachment:image.png)\n"
      ]
    },
    {
      "cell_type": "markdown",
      "metadata": {
        "id": "feOenksMtEEv"
      },
      "source": [
        " Esto se conoce como una **transformación lineal**, donde modificamos un vector mediante estiramiento, compresión, inclinación o rotación, siguiendo los movimientos de los vectores base. En resumen, al escalar los vectores *î* y *j*, también estiramos el espacio en el que se encuentra el vector *v*"
      ]
    },
    {
      "cell_type": "markdown",
      "metadata": {
        "id": "gPjzsV8OtEEv"
      },
      "source": [
        "Generalmente, en transformaciones lineales hay cuatro movimientos que se pueden hacer: escalar, rotar, inclinar\n",
        "\n",
        "![image.png](attachment:image.png)"
      ]
    },
    {
      "cell_type": "markdown",
      "metadata": {
        "id": "Osb5Aiq1tEEw"
      },
      "source": [
        "Estas cuatro transformaciones lineales son una parte central del álgebra lineal. Escalar un vector lo estirará o lo comprimirá. Las rotaciones girarán el espacio vectorial, y las inversiones darán la vuelta al espacio vectorial para que *î* y *j* intercambien sus lugares respectivos."
      ]
    },
    {
      "cell_type": "markdown",
      "metadata": {
        "id": "5CRYDgGytEEw"
      },
      "source": [
        "<div class=\"alert alert-block alert-info\">\n",
        "<b>Importante:</b> no puedes tener transformaciones que sean no lineales, lo que resultaría en transformaciones curvas o sinuosas que ya no respetan una línea recta. ¡Por eso lo llamamos álgebra lineal, no álgebra no lineal!\n",
        "</div>"
      ]
    },
    {
      "cell_type": "markdown",
      "metadata": {
        "id": "6zjt-qdItEEw"
      },
      "source": [
        "### Multiplicación de matrix por vector"
      ]
    },
    {
      "cell_type": "markdown",
      "metadata": {
        "id": "-eX70GqwtEEw"
      },
      "source": [
        "La multiplicación de una matriz por un vector nos permite seguir la trayectoria de dónde terminan los vectores *î* y *j* después de una transformación. Esto es crucial porque no solo nos permite crear nuevos vectores, sino también transformar los vectores existentes.\n",
        "\n",
        "La fórmula para transformar un vector *v* dado los vectores base empaquetados como una matriz es la siguiente:\n",
        "$$ \\dbinom{x_{nuevo}}{y_{nuevo}} = \\begin{pmatrix} a & b \\\\ c & d\\end{pmatrix} \\dbinom{x}{y}$$\n",
        "$$ \\dbinom{x_{nuevo}}{y_{nuevo}} = \\begin{pmatrix} ax + by \\\\ cx + dy\\end{pmatrix}$$\n",
        "\n",
        "Esta transformación de un vector aplicando vectores base se conoce como multiplicación de matriz por vector. En resumen, esta fórmula es una manera eficiente de escalar y sumar los vectores base *î* y *j*, tal como lo hicimos anteriormente, y luego aplicar esa transformación a cualquier vector *v*."
      ]
    },
    {
      "cell_type": "markdown",
      "metadata": {
        "id": "DqAFF5cPtEEw"
      },
      "source": [
        "Para ejecutar esta transformación en Python utilizando NumPy, necesitaremos declarar nuestros vectores base como una matriz y luego aplicarla al vector *v* usando el operador **dot()**. El operador dot() realizará esta escala y adición entre nuestra matriz y el vector como acabamos de describir. Esto se conoce como el producto punto."
      ]
    },
    {
      "cell_type": "code",
      "execution_count": null,
      "metadata": {
        "id": "JfTHunbltEEw",
        "outputId": "1b150111-bc95-46a0-b974-db9a7ead6add"
      },
      "outputs": [
        {
          "name": "stdout",
          "output_type": "stream",
          "text": [
            "[3 2]\n"
          ]
        }
      ],
      "source": [
        "from numpy import array\n",
        "\n",
        "# matriz base compuesta por vectores i y j\n",
        "basis = array(\n",
        "    [[3, 0],\n",
        "     [0, 2]]\n",
        " )\n",
        "\n",
        "# declaro vector v\n",
        "v = array([1,1])\n",
        "\n",
        "# creo un nuevo vector transformando v con el producto punto\n",
        "new_v = basis.dot(v)\n",
        "\n",
        "print(new_v)"
      ]
    },
    {
      "cell_type": "markdown",
      "metadata": {
        "id": "v3JwZK_CtEE-"
      },
      "source": [
        "Cuando se piensa en términos de vectores base, es preferible separar los vectores base y luego componerlos en una matriz. Solo hay que tener en cuenta que se necesitará transponer, o intercambiar las filas y columnas. Esto se debe a que la función array() de NumPy realizará la orientación opuesta a la que queremos, poblándola con cada vector como una fila en lugar de una columna."
      ]
    },
    {
      "cell_type": "code",
      "execution_count": null,
      "metadata": {
        "id": "fKABVPRptEE-",
        "outputId": "72934ad1-4ff4-4bc4-8c46-9f2eac018909"
      },
      "outputs": [
        {
          "name": "stdout",
          "output_type": "stream",
          "text": [
            "[2 3]\n"
          ]
        }
      ],
      "source": [
        "from numpy import array\n",
        "\n",
        "# Declaro los vectores\n",
        "i_hat = array([2, 0])\n",
        "j_hat = array([0, 3])\n",
        "\n",
        "# Compongo la matriz base con los vectores\n",
        "# necesito trasponer filas en columnas\n",
        "basis = array([i_hat, j_hat]).transpose()\n",
        "\n",
        "# Declaro vector v\n",
        "v = array([1,1])\n",
        "\n",
        "# Creo nuevo vector\n",
        "# transformando v con el producto punto\n",
        "new_v = basis.dot(v)\n",
        "\n",
        "print(new_v)"
      ]
    },
    {
      "cell_type": "markdown",
      "metadata": {
        "id": "MpnknRxKtEE_"
      },
      "source": [
        "Veamos otro ejemplo: comencemos con el vector *v* = [2,1] y los vectores *î* = [1, 0] y *j* = [0, 1]. Si transformamos los vectores *î* y *j* a [2, 0] y [0, 3] respectivamente, qué pasaría con el vector *v*?\n",
        "\n",
        "$$ \\dbinom{x_{nuevo}}{y_{nuevo}} = \\begin{pmatrix} a & b \\\\ c & d\\end{pmatrix} \\dbinom{x}{y} = \\begin{pmatrix} ax + by \\\\ cx + dy\\end{pmatrix}$$\n",
        "$$ \\dbinom{x_{nuevo}}{y_{nuevo}} = \\begin{pmatrix} 2 & 0 \\\\ 0 & 3\\end{pmatrix} \\dbinom{2}{1} = \\dbinom{4}{3} $$"
      ]
    },
    {
      "cell_type": "markdown",
      "metadata": {
        "id": "PN1hImaytEE_"
      },
      "source": [
        "Así lo resolvemos en Python:"
      ]
    },
    {
      "cell_type": "code",
      "execution_count": null,
      "metadata": {
        "id": "tsyEoxE5tEE_",
        "outputId": "ac70e75d-0640-4db9-b607-f4158da4172e"
      },
      "outputs": [
        {
          "name": "stdout",
          "output_type": "stream",
          "text": [
            "[4 3]\n"
          ]
        }
      ],
      "source": [
        "from numpy import array\n",
        "\n",
        "# Declaro los vectores i y j\n",
        "i_hat = array([2, 0])\n",
        "j_hat = array([0, 3])\n",
        "\n",
        "# compongo la matriz base usando los vectores i y j\n",
        "# y traspongo filas en columnas\n",
        "basis = array([i_hat, j_hat]).transpose()\n",
        "\n",
        "# declaro el vector v inicial\n",
        "v = array([2,1])\n",
        "\n",
        "# creo el nuevo vector\n",
        "# transformando v con el producto punto\n",
        "new_v = basis.dot(v)\n",
        "\n",
        "print(new_v)"
      ]
    },
    {
      "cell_type": "markdown",
      "metadata": {
        "id": "GFyd7drHtEE_"
      },
      "source": [
        "Ahora veamos gráficamente:\n",
        "![image.png](attachment:image.png)"
      ]
    },
    {
      "cell_type": "markdown",
      "metadata": {
        "id": "nOhU4wVXtEE_"
      },
      "source": [
        "<div class=\"alert alert-block alert-warning\">\n",
        "<b>Ejercicio:</b> Tomemos el vector v = [2,1] y los vectores i y j transformados a [2,3] y [2,-1] respectivamente. ¿Qué pasa con v?\n",
        "</div>"
      ]
    },
    {
      "cell_type": "markdown",
      "metadata": {
        "id": "dTwB3UPUtEFA"
      },
      "source": [
        "## Multiplicación de matrices"
      ]
    },
    {
      "cell_type": "markdown",
      "metadata": {
        "id": "_96v-APLtEFA"
      },
      "source": [
        "La multiplicación de matrices se puede entender como la aplicación de múltiples transformaciones sucesivas a un espacio vectorial. Cada matriz representa una transformación, y al multiplicar las matrices, combinamos estas transformaciones en una sola operación. Es como aplicar una serie de funciones a un vector, donde cada función representa una etapa de transformación."
      ]
    },
    {
      "cell_type": "markdown",
      "metadata": {
        "id": "SdiRU8RStEFA"
      },
      "source": [
        "Así aplicamos una rotación y luego un shear o sesgo/corte a un vector [x, y]\n",
        "\n",
        "$$ \\begin{pmatrix} 1 & 1 \\\\ 0 & 1\\end{pmatrix} \\begin{pmatrix} 0 & -1 \\\\ 1 & 0\\end{pmatrix} \\dbinom{x}{y}$$"
      ]
    },
    {
      "cell_type": "markdown",
      "metadata": {
        "id": "1Pl-q7rUtEFA"
      },
      "source": [
        "En realidad, podemos consolidar estas dos transformaciones utilizando esta fórmula, aplicando una transformación sobre la última.\n",
        "\n",
        "$$ \\begin{pmatrix} a & b \\\\ c & d\\end{pmatrix} \\begin{pmatrix} e & f \\\\ g & h\\end{pmatrix} = \\begin{pmatrix} ae + bg & af + bh \\\\ ce + dy & cf + dh\\end{pmatrix}$$"
      ]
    },
    {
      "cell_type": "markdown",
      "metadata": {
        "id": "U1eS7O1FtEFA"
      },
      "source": [
        "Para ejecutar esto en Python usando NumPy, puedes combinar las dos matrices simplemente usando el operador matmul() o @"
      ]
    },
    {
      "cell_type": "code",
      "execution_count": null,
      "metadata": {
        "id": "nKZalT-dtEFA",
        "outputId": "54bfedde-f61a-4c0a-b3c8-26970039e188"
      },
      "outputs": [
        {
          "name": "stdout",
          "output_type": "stream",
          "text": [
            "COMBINED MATRIX:\n",
            " [[ 1 -1]\n",
            " [ 1  0]]\n",
            "[-1  1]\n"
          ]
        }
      ],
      "source": [
        "from numpy import array\n",
        "\n",
        "# Transformacion 1\n",
        "i_hat1 = array([0, 1])\n",
        "j_hat1 = array([-1, 0])\n",
        "transform1 = array([i_hat1, j_hat1]).transpose()\n",
        "\n",
        "# Transformacion 2\n",
        "i_hat2 = array([1, 0])\n",
        "j_hat2 = array([1, 1])\n",
        "transform2 = array([i_hat2, j_hat2]).transpose()\n",
        "\n",
        "# Combino Transformaciones\n",
        "combined = transform2 @ transform1\n",
        "\n",
        "# Test\n",
        "print(\"COMBINED MATRIX:\\n {}\".format(combined))\n",
        "\n",
        "# Aplico al vector v\n",
        "v = array([1, 2])\n",
        "print(combined.dot(v))"
      ]
    },
    {
      "cell_type": "markdown",
      "metadata": {
        "id": "lo8scStYtEFB"
      },
      "source": [
        "\n",
        "<div class=\"alert alert-block alert-danger\">\n",
        "<b>Importante:</b> ¡El orden en el que se aplica cada transformación importa! Los productos punto de matrices no son conmutativos.\n",
        "</div>\n",
        "\n",
        "Piensa en cada transformación como una función, y las aplicamos de la más interna a la más externa, al igual que las llamadas de funciones anidadas."
      ]
    },
    {
      "cell_type": "markdown",
      "metadata": {
        "id": "m891OpX7tEFB"
      },
      "source": [
        "Veamos el ejemplo anterior pero aplicando las transformaciones en otro orden:"
      ]
    },
    {
      "cell_type": "code",
      "execution_count": null,
      "metadata": {
        "id": "FUguWhimtEFC",
        "outputId": "94cc6562-ad7a-4ee6-acb5-d04221dc6155"
      },
      "outputs": [
        {
          "name": "stdout",
          "output_type": "stream",
          "text": [
            "COMBINED MATRIX:\n",
            " [[ 0 -1]\n",
            " [ 1  1]]\n",
            "[-2  3]\n"
          ]
        }
      ],
      "source": [
        "from numpy import array\n",
        "\n",
        "# Transformacion 1\n",
        "i_hat1 = array([0, 1])\n",
        "j_hat1 = array([-1, 0])\n",
        "transform1 = array([i_hat1, j_hat1]).transpose()\n",
        "\n",
        "# Transformacion 2\n",
        "i_hat2 = array([1, 0])\n",
        "j_hat2 = array([1, 1])\n",
        "transform2 = array([i_hat2, j_hat2]).transpose()\n",
        "\n",
        "# Combino transformaciones, en otro orden\n",
        "combined = transform1 @ transform2\n",
        "\n",
        "# Test\n",
        "print(\"COMBINED MATRIX:\\n {}\".format(combined))\n",
        "\n",
        "# Aplico al vector v\n",
        "v = array([1, 2])\n",
        "print(combined.dot(v))"
      ]
    },
    {
      "cell_type": "markdown",
      "metadata": {
        "id": "eWYgcAN-tEFC"
      },
      "source": [
        "<div class=\"alert alert-block alert-info\">\n",
        "<b> Las transformaciones lineales y matrices son fundamentales en la ciencia de datos y el aprendizaje automático. Aunque rara vez visualizamos nuestros datos como espacios vectoriales y transformaciones lineales debido a la alta dimensionalidad, comprender la interpretación geométrica nos ayuda a entender el propósito y el efecto de las operaciones numéricas que realizamos. Esto nos permite aplicar conceptos de álgebra lineal de manera más efectiva en problemas de datos y aprendizaje automático.\n",
        "</div>"
      ]
    },
    {
      "cell_type": "markdown",
      "metadata": {
        "id": "vHIhq906tEFC"
      },
      "source": [
        "## Determinantes"
      ]
    },
    {
      "cell_type": "markdown",
      "metadata": {
        "id": "ipQLFFaatEFC"
      },
      "source": [
        "\n",
        "Cuando realizamos transformaciones lineales, a veces \"expandimos\" o \"comprimimos\" el espacio y el grado en que esto sucede puede ser útil.\n",
        "\n",
        "![image.png](attachment:image.png)"
      ]
    },
    {
      "cell_type": "markdown",
      "metadata": {
        "id": "3rEFO2sjtEFD"
      },
      "source": [
        "El determinante describe cuánto cambia el tamaño de un área muestreada en un espacio vectorial debido a las transformaciones lineales. Es una medida de cuánto se \"expande\" o \"comprime\" el área bajo la transformación y proporciona información útil sobre el efecto global de la transformación en el espacio vectorial.\n",
        "\n",
        "En la figura, el área aumenta 6 veces."
      ]
    },
    {
      "cell_type": "markdown",
      "metadata": {
        "id": "O0v0eehntEFD"
      },
      "source": [
        "Calculemos el determinante en Python:"
      ]
    },
    {
      "cell_type": "code",
      "execution_count": null,
      "metadata": {
        "id": "60mqN0REtEFD",
        "outputId": "559c612b-ecfc-4788-dc6d-f12fb24655a0"
      },
      "outputs": [
        {
          "name": "stdout",
          "output_type": "stream",
          "text": [
            "6.0\n"
          ]
        }
      ],
      "source": [
        "from numpy.linalg import det\n",
        "from numpy import array\n",
        "\n",
        "i_hat = array([3, 0])\n",
        "j_hat = array([0, 2])\n",
        "\n",
        "basis = array([i_hat, j_hat]).transpose()\n",
        "\n",
        "determinant = det(basis)\n",
        "\n",
        "print(determinant)"
      ]
    },
    {
      "cell_type": "markdown",
      "metadata": {
        "id": "n4Zl5h0ZtEFD"
      },
      "source": [
        "Las deformaciones simples y las rotaciones no deberían afectar al determinante, ya que el área no cambia.\n",
        "En la siguiente figura se observa que un corte simple no cambia el área.\n",
        "\n",
        "![image.png](attachment:image.png)"
      ]
    },
    {
      "cell_type": "markdown",
      "metadata": {
        "id": "EQgkK0futEFE"
      },
      "source": [
        "Lo podemos comprobar numéricamente"
      ]
    },
    {
      "cell_type": "code",
      "execution_count": null,
      "metadata": {
        "id": "Omw7qx_WtEFE",
        "outputId": "1c5cdea9-ce4e-4c7f-e10c-e37dfcbb0efe"
      },
      "outputs": [
        {
          "name": "stdout",
          "output_type": "stream",
          "text": [
            "1.0\n"
          ]
        }
      ],
      "source": [
        "from numpy.linalg import det\n",
        "from numpy import array\n",
        "\n",
        "i_hat = array([1, 0])\n",
        "j_hat = array([1, 1]) # Transformacion solo en vector j\n",
        "\n",
        "basis = array([i_hat, j_hat]).transpose()\n",
        "\n",
        "determinant = det(basis)\n",
        "\n",
        "print(determinant)"
      ]
    },
    {
      "cell_type": "markdown",
      "metadata": {
        "id": "oNt_sbSItEFE"
      },
      "source": [
        "Cuando escalamos una transformación, el determinante puede aumentar o disminuir, ya que esto afectará el área muestreada en el espacio vectorial. Si la orientación se invierte, es decir, si los vectores base intercambian posiciones en el sentido de las agujas del reloj, el determinante será negativo.\n",
        "\n",
        "![image.png](attachment:image.png)"
      ]
    },
    {
      "cell_type": "code",
      "execution_count": null,
      "metadata": {
        "id": "2V97duostEFE",
        "outputId": "1e1033f4-fc80-4eca-c97a-bb4c99b98d6b"
      },
      "outputs": [
        {
          "name": "stdout",
          "output_type": "stream",
          "text": [
            "-5.000000000000001\n"
          ]
        }
      ],
      "source": [
        "# Un determinante negativo\n",
        "from numpy.linalg import det\n",
        "from numpy import array\n",
        "\n",
        "i_hat = array([-2, 1])\n",
        "j_hat = array([1, 2])\n",
        "\n",
        "basis = array([i_hat, j_hat]).transpose()\n",
        "\n",
        "determinant = det(basis)\n",
        "\n",
        "print(determinant)"
      ]
    },
    {
      "cell_type": "markdown",
      "metadata": {
        "id": "YzQkNdGItEFE"
      },
      "source": [
        "\n",
        "Debido a que este determinante es negativo, rápidamente observamos que la orientación ha cambiado. Pero, de lejos, la información más crítica que te proporciona el determinante es si la transformación es linealmente dependiente. Si tienes un determinante igual a 0, eso significa que todo el espacio ha sido comprimido en una dimensión menor.\n",
        "\n",
        "En la siguiente figura vemos dos transformaciones linealmente dependientes, donde un espacio 2D se comprime en una dimensión y un espacio 3D se comprime en dos dimensiones. El área y el volumen respectivamente en ambos casos son 0.\n",
        "\n",
        "![image.png](attachment:image.png)"
      ]
    },
    {
      "cell_type": "markdown",
      "metadata": {
        "id": "qTSCKC65tEFF"
      },
      "source": [
        "Comprobar si el determinante es igual a 0 es muy útil para detectar si una transformación tiene dependencia lineal. Cuando encuentres esto, es probable que te enfrentes a un problema difícil o incluso insoluble."
      ]
    },
    {
      "cell_type": "markdown",
      "metadata": {
        "id": "AZRBkQFwtEFF"
      },
      "source": [
        "## Tipos de matrices especiales"
      ]
    },
    {
      "cell_type": "markdown",
      "metadata": {
        "id": "LAQA11XTtEFF"
      },
      "source": [
        "### Matriz cuadrada\n",
        "La matriz cuadrada es una matriz que tiene el mismo número de filas y columnas:\n",
        "\n",
        "$$ \\begin{pmatrix} 4 & 2 & 7 \\\\ 5 & 1 & 9 \\\\ 4 & 0 & 1\\end{pmatrix} $$\n",
        "\n",
        "Principalmente se utilizan para representar transformaciones lineales y son un requisito para muchas operaciones como la descomposición en auto valores."
      ]
    },
    {
      "cell_type": "markdown",
      "metadata": {
        "id": "CSziNRGitEFF"
      },
      "source": [
        "### Matriz identidad\n",
        "La matriz identidad es una matriz cuadrada que tiene una diagonal de 1 mientras que los otros valores son 0:\n",
        "\n",
        "$$ \\begin{pmatrix} 1 & 0 & 0 \\\\ 0 & 1 & 0 \\\\ 0 & 0 & 1\\end{pmatrix} $$\n",
        "\n",
        "La matriz identidad es especial porque representa la ausencia de cualquier transformación. Cuando la utilizamos en operaciones matriciales, actúa como el \"estado inicial\" o la base original antes de cualquier transformación. Esto es útil para deshacer transformaciones y resolver sistemas de ecuaciones."
      ]
    },
    {
      "cell_type": "markdown",
      "metadata": {
        "id": "SxJXuAn3tEFF"
      },
      "source": [
        "### Matriz inversa\n",
        "Una matriz inversa es aquella que revierte la transformación realizada por otra matriz.\n",
        "\n",
        "Supongamos la matriz A:\n",
        "$$ A = \\begin{pmatrix} 4 & 2 & 4 \\\\ 5 & 3 & 7 \\\\ 9 & 3 & 6\\end{pmatrix} $$\n",
        "\n",
        "La inversa de la matriz es:\n",
        "\n",
        "$$ A^{-1} = \\begin{pmatrix} -1/2 & 0 & 1/3 \\\\ 11/2 & -2 & 4/3 \\\\ -2 & 1 & 1/3\\end{pmatrix} $$\n",
        "\n",
        "Cuando realizamos la multiplicación de matrices entre la inversa y A obtenemos una matriz identidad.\n",
        "\n",
        "$$ A^{-1} A = \\begin{pmatrix} -1/2 & 0 & 1/3 \\\\ 11/2 & -2 & 4/3 \\\\ -2 & 1 & 1/3\\end{pmatrix} \\begin{pmatrix} 4 & 2 & 4 \\\\ 5 & 3 & 7 \\\\ 9 & 3 & 6\\end{pmatrix} = \\begin{pmatrix} 1 & 0 & 0 \\\\ 0 & 1 & 0 \\\\ 0 & 0 & 1\\end{pmatrix} $$"
      ]
    },
    {
      "cell_type": "markdown",
      "metadata": {
        "id": "1iSuMrVYtEFG"
      },
      "source": [
        "### Matriz diagonal\n",
        "Similar a la matriz identidad está la matriz diagonal, que tiene una diagonal de valores no nulos mientras que el resto de los valores son 0. Las matrices diagonales son deseables en ciertos cálculos porque representan escalares simples aplicados a un espacio vectorial. Aparecen en algunas operaciones de álgebra lineal.\n",
        "\n",
        "$$ \\begin{pmatrix} 4 & 0 & 0 \\\\ 0 & 2 & 0 \\\\ 0 & 0 & 5\\end{pmatrix} $$"
      ]
    },
    {
      "cell_type": "markdown",
      "metadata": {
        "id": "seM6Xgk6tEFG"
      },
      "source": [
        "### Matriz triangular\n",
        "Similar a la matriz diagonal está la matriz triangular, que tiene una diagonal de valores no nulos frente a un triángulo de valores, mientras que el resto de los valores son 0.\n",
        "\n",
        "$$ \\begin{pmatrix} 4 & 2 & 9 \\\\ 0 & 1 & 6 \\\\ 0 & 0 & 5\\end{pmatrix} $$\n",
        "\n",
        "Las matrices triangulares son deseables en muchas tareas de análisis numérico, ya que suelen ser más fáciles de resolver en sistemas de ecuaciones."
      ]
    },
    {
      "cell_type": "markdown",
      "metadata": {
        "id": "gqoBychEtEFG"
      },
      "source": [
        "### Matriz dispersa\n",
        "Las matrices dispersas son aquellas en las que la mayoría de los elementos son cero. Desde el punto de vista computacional, son útiles porque no necesitan almacenar los ceros, lo que ahorra espacio de memoria y acelera los cálculos en operaciones matriciales.\n",
        "\n",
        "$$ \\begin{pmatrix} 0 & 0 & 0 \\\\ 0 & 0 & 2 \\\\ 0 & 0 & 0 \\\\ 0 & 0 & 0\\end{pmatrix} $$\n",
        "\n",
        "Cuando tienes matrices grandes y dispersas, es posible que uses explícitamente una función de dispersión para crear tu matriz."
      ]
    },
    {
      "cell_type": "markdown",
      "metadata": {
        "id": "mSHriNaQtEFG"
      },
      "source": [
        "## Sistemas de ecuaciones y la matriz inversa  \n",
        "\n",
        "Uno de los casos de uso básicos para álgebra lineal es resolver sistemas de ecuaciones.  \n",
        "\n",
        "Los sistemas de ecuaciones también sirven para aprender sobre matrices inversas.  \n",
        "\n",
        "Supongamos que tenemos las siguientes ecuaciones y tenés que resolverlas para *x*, *y* y *z*:  \n",
        "\n",
        "$$ 4x + 2y + 4z = 44 $$\n",
        "$$ 5x + 3y + 7z = 44 $$\n",
        "$$ 9x + 3y + 6z = 44 $$"
      ]
    },
    {
      "cell_type": "markdown",
      "metadata": {
        "id": "2yBNQm1WtEFG"
      },
      "source": [
        "Podemos probar a mano despejar las ecuaciones, y llegaríamos al resultado, pero si queremos dárselo a una compu para que lo resuelva, podríamos expresar este problema en notación matricial.  \n",
        "\n",
        "Veamos cómo quedaría:  \n",
        "\n",
        "$$ A = \\left(\\begin{matrix} 4 & 2 & 4 \\\\ 5 & 3 & 7 \\\\ 9 & 3 & 6\\end{matrix}\\right) $$  \n",
        "\n",
        "$$ B = \\left(\\begin{matrix} 44 \\\\ 56 \\\\ 72 \\end{matrix}\\right) $$  \n",
        "\n",
        "$$ X = \\left(\\begin{matrix} x \\\\ y \\\\ z \\end{matrix}\\right) $$  "
      ]
    },
    {
      "cell_type": "markdown",
      "metadata": {
        "id": "_oWg-8CotEFH"
      },
      "source": [
        "Quedando el sistema de ecuaciones lineales: $$ AX = B $$  \n",
        "\n",
        "O sea:  \n",
        "$$ \\left(\\begin{matrix} 4 & 2 & 4 \\\\ 5 & 3 & 7 \\\\ 9 & 3 & 6\\end{matrix}\\right) . \\left(\\begin{matrix} x \\\\ y \\\\ z \\end{matrix}\\right) = \\left(\\begin{matrix} 44 \\\\ 56 \\\\ 72 \\end{matrix}\\right) $$"
      ]
    },
    {
      "cell_type": "markdown",
      "metadata": {
        "id": "z3NCvwV1tEFH"
      },
      "source": [
        "Y si es que este sistema de ecuaciones tiene solución, nosotros podríamos despejar *X* y obtener qué set de valores *x*, *y* y *z* satisfacen la igualdad.  \n",
        "  \n",
        "¿Cómo se despeja esto teniendo matrices?\n",
        "\n",
        "---\n"
      ]
    },
    {
      "cell_type": "markdown",
      "metadata": {
        "id": "ZYyzzJHTtEFH"
      },
      "source": [
        "$$ A X = B $$  \n",
        "$$ A^{-1} A X = A^{-1} B $$  \n",
        "$$ X = A^{-1} B $$  \n",
        "\n",
        "Ahora tenemos que calcular la inversa de la matriz *A*, que como acá nos importa el concepto y no las cuentas (porque las vamos a hacer con *numpy*), quedaría:  \n",
        "\n",
        "$$ A^{-1} = \\left(\\begin{matrix} -1/2 & 0 & 1/3 \\\\ 11/2 & -2 & 4/3 \\\\ -2 & 1 & 1/3 \\end{matrix}\\right) $$  "
      ]
    },
    {
      "cell_type": "markdown",
      "metadata": {
        "id": "LsQxrvxdtEFH"
      },
      "source": [
        "Pero siempre podemos corroborar que si la multiplicamos por *A*, vamos a obtener la matriz identidad:  \n",
        "\n",
        "$$ A^{-1} A = \\left(\\begin{matrix} -1/2 & 0 & 1/3 \\\\ 11/2 & -2 & 4/3 \\\\ -2 & 1 & 1/3 \\end{matrix}\\right) \\left(\\begin{matrix} 4 & 2 & 4 \\\\ 5 & 3 & 7 \\\\ 9 & 3 & 6\\end{matrix}\\right) = \\left(\\begin{matrix} 1 & 0 & 0 \\\\ 0 & 1 & 0 \\\\ 0 & 0 & 1 \\end{matrix}\\right)$$  "
      ]
    },
    {
      "cell_type": "markdown",
      "metadata": {
        "id": "Xh7Uvs5utEFH"
      },
      "source": [
        "Como *numpy* aproxima y no hace las cuentas exactas, para mostrar el ejemplo con *Python* y que nos dé exactamente la matriz identidad, vamos a usar el paquete *sympy*."
      ]
    },
    {
      "cell_type": "code",
      "execution_count": null,
      "metadata": {
        "id": "UcsG1EYJtEFI",
        "outputId": "bfc5a65f-4f6e-48b5-8b50-995a96fd2f07"
      },
      "outputs": [
        {
          "name": "stdout",
          "output_type": "stream",
          "text": [
            "INVERSE: Matrix([[-1/2, 0, 1/3], [11/2, -2, -4/3], [-2, 1, 1/3]])\n",
            "IDENTITY: Matrix([[1, 0, 0], [0, 1, 0], [0, 0, 1]])\n"
          ]
        }
      ],
      "source": [
        "from sympy import *\n",
        "\n",
        "# 4x + 2y + 4z = 44\n",
        "# 5x + 3y + 7z = 56\n",
        "# 9x + 3y + 6z = 72\n",
        "\n",
        "A = Matrix([\n",
        "    [4, 2, 4],\n",
        "    [5, 3, 7],\n",
        "    [9, 3, 6]\n",
        "])\n",
        "\n",
        "# El producto entre A y su inversa\n",
        "# producen la matriz identidad\n",
        "inverse = A.inv()\n",
        "identity = inverse * A  # Ojo que esto no es numpy, es sympy, acá las matrices se multiplican con *\n",
        "\n",
        "print(\"INVERSE: {}\".format(inverse))\n",
        "print(\"IDENTITY: {}\".format(identity))"
      ]
    },
    {
      "cell_type": "markdown",
      "metadata": {
        "id": "D9LGSXLAtEFI"
      },
      "source": [
        "Pero bueno, las aproximaciones de *numpy* no nos van a empeorar mucho las cuentas, y la realidad es que es la forma de hacerlo.  \n",
        "\n",
        "La resolución del sistema de ecuaciones quedaría así:  "
      ]
    },
    {
      "cell_type": "code",
      "execution_count": null,
      "metadata": {
        "id": "Jep9OvXqtEFI",
        "outputId": "6aa3a582-4820-4e5d-c5e8-6f733cfae9e7"
      },
      "outputs": [
        {
          "name": "stdout",
          "output_type": "stream",
          "text": [
            "[[ 1.00000000e+00 -2.22044605e-16 -4.44089210e-16]\n",
            " [ 2.66453526e-15  1.00000000e+00  1.77635684e-15]\n",
            " [-6.66133815e-16 -2.22044605e-16  1.00000000e+00]]\n"
          ]
        }
      ],
      "source": [
        "from numpy import array\n",
        "from numpy.linalg import inv\n",
        "\n",
        "# 4x + 2y + 4z = 44\n",
        "# 5x + 3y + 7z = 56\n",
        "# 9x + 3y + 6z = 72\n",
        "\n",
        "A = array([\n",
        "    [4, 2, 4],\n",
        "    [5, 3, 7],\n",
        "    [9, 3, 6]\n",
        "])\n",
        "\n",
        "B = array([\n",
        "    44,\n",
        "    56,\n",
        "    72\n",
        "])\n",
        "\n",
        "# Inversa de A por A debería darnos la matrix identidad:\n",
        "print(inv(A) @ A)\n"
      ]
    },
    {
      "cell_type": "code",
      "execution_count": null,
      "metadata": {
        "id": "sEsPoLbOtEFJ",
        "outputId": "66ea8ba4-3581-4842-8f7a-c041c8dc7552"
      },
      "outputs": [
        {
          "name": "stdout",
          "output_type": "stream",
          "text": [
            "X = [ 2. 34. -8.]\n"
          ]
        }
      ],
      "source": [
        "# La resolución del sistema de ecuaciones:\n",
        "\n",
        "X = inv(A).dot(B)\n",
        "\n",
        "print('X =', X)"
      ]
    },
    {
      "cell_type": "markdown",
      "metadata": {
        "id": "KVR9O30ltEFJ"
      },
      "source": [
        "Esto significa que:  \n",
        "$$ A^{-1} B  = X $$  \n",
        "$$ \\left(\\begin{matrix} -1/2 & 0 & 1/3 \\\\ 11/2 & -2 & 4/3 \\\\ -2 & 1 & 1/3 \\end{matrix}\\right) . \\left(\\begin{matrix} 44 \\\\ 56 \\\\ 72 \\end{matrix}\\right) = \\left(\\begin{matrix} x \\\\ y \\\\ z \\end{matrix}\\right)$$  \n",
        "$$ \\left(\\begin{matrix} 2 \\\\ 34 \\\\ -8 \\end{matrix}\\right) = \\left(\\begin{matrix} x \\\\ y \\\\ z \\end{matrix}\\right) $$  "
      ]
    },
    {
      "cell_type": "markdown",
      "metadata": {
        "id": "Fnh6Pz7ftEFJ"
      },
      "source": [
        "## Autovectores y autovalores"
      ]
    },
    {
      "cell_type": "markdown",
      "metadata": {
        "id": "pnfl6tROtEFK"
      },
      "source": [
        "La *descomposición de matrices* consiste en descomponer una matriz en sus componentes básicos, de manera similar a como se factorizan los números (por ejemplo, 10 se puede descomponer en 2 × 5).\n",
        "\n",
        "La descomposición de matrices es útil para tareas como encontrar matrices inversas y calcular determinantes, así como para la regresión lineal. Hay varios métodos de descomposición de matrices."
      ]
    },
    {
      "cell_type": "markdown",
      "metadata": {
        "id": "NRdHr5QztEFK"
      },
      "source": [
        "En este capítulo nos enfocaremos en un método común conocido como descomposición en autovalores, que se utiliza frecuentemente en el aprendizaje automático y el análisis de componentes principales. A este nivel, no profundizaremos en cada una de estas aplicaciones. Básicamente, la descomposición en autovalores nos ayuda a descomponer una matriz en partes más simples que son más útiles para diferentes tareas de aprendizaje automático. Es importante tener en cuenta que este método solo funciona con matrices cuadradas."
      ]
    },
    {
      "cell_type": "markdown",
      "metadata": {
        "id": "49sKEHY6tEFK"
      },
      "source": [
        "![image.png](attachment:image.png)"
      ]
    },
    {
      "cell_type": "markdown",
      "metadata": {
        "id": "QNOKCkyftEFK"
      },
      "source": [
        "Si tenemos una matriz cuadrada A, tiene la siguiente ecuación de autovalores:\n",
        "\n",
        "$$ A\\nu = \\lambda\\nu $$"
      ]
    },
    {
      "cell_type": "markdown",
      "metadata": {
        "id": "g7unE7pytEFK"
      },
      "source": [
        "Veamos cómo se calculan los autovalores (eigenvalues) y autovectores (eigenvectors) en Python:"
      ]
    },
    {
      "cell_type": "code",
      "execution_count": null,
      "metadata": {
        "id": "3xAZnRNRtEFK",
        "outputId": "dacfb00e-36bc-4e67-c219-a30577c125b6"
      },
      "outputs": [
        {
          "name": "stdout",
          "output_type": "stream",
          "text": [
            "EIGENVALUES\n",
            "[-0.46410162  6.46410162]\n",
            "\n",
            "EIGENVECTORS\n",
            "[[-0.80689822 -0.34372377]\n",
            " [ 0.59069049 -0.9390708 ]]\n"
          ]
        }
      ],
      "source": [
        "from numpy import array, diag\n",
        "from numpy.linalg import eig, inv\n",
        "\n",
        "A = array([\n",
        "    [1, 2],\n",
        "    [4, 5]\n",
        "])\n",
        "\n",
        "eigenvals, eigenvecs = eig(A)\n",
        "\n",
        "print(\"EIGENVALUES\")\n",
        "print(eigenvals)\n",
        "print(\"\\nEIGENVECTORS\")\n",
        "print(eigenvecs)"
      ]
    },
    {
      "cell_type": "markdown",
      "metadata": {
        "id": "049rISH8tEFL"
      },
      "source": [
        "Entonces, ¿cómo reconstruimos la matriz A a partir de los autovectores y autovalores?\n",
        "\n",
        "Recuerda la fórmula:\n",
        "$$ A\\nu = \\lambda\\nu $$\n",
        "\n",
        "Para encontrar A debemos realizar\n",
        "$$ A = Q \\varLambda Q^{-1}$$\n",
        "\n",
        "Donde Q representa a los autovectores, Λ son los autovalores en forma diagonal y luego tenemos la matriz inversa de Q.\n"
      ]
    },
    {
      "cell_type": "markdown",
      "metadata": {
        "id": "RdAgXCfntEFL"
      },
      "source": [
        "Veamos el siguiente ejemplo en Python, comenzando por descomponer la matriz y luego recomponerla."
      ]
    },
    {
      "cell_type": "code",
      "execution_count": null,
      "metadata": {
        "id": "1FdMnToatEFM",
        "outputId": "10683915-5f28-4ab0-d5fe-fe9625d981cd"
      },
      "outputs": [
        {
          "name": "stdout",
          "output_type": "stream",
          "text": [
            "EIGENVALUES\n",
            "[-0.46410162  6.46410162]\n",
            "\n",
            "EIGENVECTORS\n",
            "[[-0.80689822 -0.34372377]\n",
            " [ 0.59069049 -0.9390708 ]]\n",
            "\n",
            "REBUILD MATRIX\n",
            "[[1. 2.]\n",
            " [4. 5.]]\n"
          ]
        }
      ],
      "source": [
        "from numpy import array, diag\n",
        "from numpy.linalg import eig, inv\n",
        "\n",
        "A = array([\n",
        "    [1, 2],\n",
        "    [4, 5]\n",
        "])\n",
        "\n",
        "# Descompongo la matriz A\n",
        "eigenvals, eigenvecs = eig(A)\n",
        "\n",
        "print(\"EIGENVALUES\")\n",
        "print(eigenvals)\n",
        "print(\"\\nEIGENVECTORS\")\n",
        "print(eigenvecs)\n",
        "\n",
        "# Recompongo la matriz A\n",
        "print(\"\\nREBUILD MATRIX\")\n",
        "Q = eigenvecs\n",
        "R = inv(Q)\n",
        "\n",
        "L = diag(eigenvals)\n",
        "B = Q @ L @ R\n",
        "\n",
        "print(B)"
      ]
    },
    {
      "cell_type": "markdown",
      "metadata": {
        "id": "AzHqHKUntEFM"
      },
      "source": [
        "## Ejercicios"
      ]
    },
    {
      "cell_type": "markdown",
      "metadata": {
        "id": "7JlKL4i3tEFM"
      },
      "source": [
        "1. Relizar la transformación lineal de *v* = [1, 2] si *î* = [2, 0] y *j* = [0, 3/2]\n",
        "2. Relizar la transformación lineal de *v* = [1, 2] si *î* = [-2, 1] y *j* = [1, -2]\n",
        "3. Cuál es el determinante de la transformación si *î* = [1, 0] y *j* = [2, 2]\n",
        "4. ¿Se pueden realizar dos o más transformaciones lineales en una sola transformación lineal? ¿Por qué sí o por qué no?\n",
        "5. Resolver el siguiente sistema de ecuaciones\n",
        "$$ 3x + y + 0z= 54 $$\n",
        "$$ 2x + 4y + z = 12 $$\n",
        "$$ 3x + y + 8z = 6 $$\n",
        "6. ¿La siguiente matriz es linealmente dependiente? ¿Por qué sí o por qué no?\n",
        "$$ \\begin{pmatrix} 2 & 1 \\\\ 6 & 3 \\end{pmatrix}  $$"
      ]
    },
    {
      "cell_type": "markdown",
      "metadata": {
        "id": "RZZuCsActEFM"
      },
      "source": []
    }
  ],
  "metadata": {
    "kernelspec": {
      "display_name": "venv",
      "language": "python",
      "name": "python3"
    },
    "language_info": {
      "codemirror_mode": {
        "name": "ipython",
        "version": 3
      },
      "file_extension": ".py",
      "mimetype": "text/x-python",
      "name": "python",
      "nbconvert_exporter": "python",
      "pygments_lexer": "ipython3",
      "version": "3.12.2"
    },
    "colab": {
      "provenance": [],
      "include_colab_link": true
    }
  },
  "nbformat": 4,
  "nbformat_minor": 0
}